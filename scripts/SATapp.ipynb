{
 "cells": [
  {
   "cell_type": "code",
   "execution_count": 15,
   "id": "0e47451c-2201-462e-ac8f-47b812b17631",
   "metadata": {},
   "outputs": [
    {
     "ename": "TclError",
     "evalue": "no display name and no $DISPLAY environment variable",
     "output_type": "error",
     "traceback": [
      "\u001b[0;31m---------------------------------------------------------------------------\u001b[0m",
      "\u001b[0;31mTclError\u001b[0m                                  Traceback (most recent call last)",
      "Cell \u001b[0;32mIn[15], line 45\u001b[0m\n\u001b[1;32m     42\u001b[0m         messagebox\u001b[38;5;241m.\u001b[39mshowerror(\u001b[38;5;124m\"\u001b[39m\u001b[38;5;124mInvalid Input\u001b[39m\u001b[38;5;124m\"\u001b[39m, \u001b[38;5;124m\"\u001b[39m\u001b[38;5;124mPlease enter a valid numerical score.\u001b[39m\u001b[38;5;124m\"\u001b[39m)\n\u001b[1;32m     44\u001b[0m \u001b[38;5;66;03m# GUI setup\u001b[39;00m\n\u001b[0;32m---> 45\u001b[0m root \u001b[38;5;241m=\u001b[39m \u001b[43mtk\u001b[49m\u001b[38;5;241;43m.\u001b[39;49m\u001b[43mTk\u001b[49m\u001b[43m(\u001b[49m\u001b[43m)\u001b[49m\n\u001b[1;32m     46\u001b[0m root\u001b[38;5;241m.\u001b[39mtitle(\u001b[38;5;124m\"\u001b[39m\u001b[38;5;124mSAT Percentile Finder\u001b[39m\u001b[38;5;124m\"\u001b[39m)\n\u001b[1;32m     48\u001b[0m frame \u001b[38;5;241m=\u001b[39m tk\u001b[38;5;241m.\u001b[39mFrame(root, padx\u001b[38;5;241m=\u001b[39m\u001b[38;5;241m20\u001b[39m, pady\u001b[38;5;241m=\u001b[39m\u001b[38;5;241m20\u001b[39m)\n",
      "File \u001b[0;32m/opt/conda/envs/anaconda-ai-2024.04-py310/lib/python3.10/tkinter/__init__.py:2299\u001b[0m, in \u001b[0;36mTk.__init__\u001b[0;34m(self, screenName, baseName, className, useTk, sync, use)\u001b[0m\n\u001b[1;32m   2297\u001b[0m         baseName \u001b[38;5;241m=\u001b[39m baseName \u001b[38;5;241m+\u001b[39m ext\n\u001b[1;32m   2298\u001b[0m interactive \u001b[38;5;241m=\u001b[39m \u001b[38;5;28;01mFalse\u001b[39;00m\n\u001b[0;32m-> 2299\u001b[0m \u001b[38;5;28mself\u001b[39m\u001b[38;5;241m.\u001b[39mtk \u001b[38;5;241m=\u001b[39m \u001b[43m_tkinter\u001b[49m\u001b[38;5;241;43m.\u001b[39;49m\u001b[43mcreate\u001b[49m\u001b[43m(\u001b[49m\u001b[43mscreenName\u001b[49m\u001b[43m,\u001b[49m\u001b[43m \u001b[49m\u001b[43mbaseName\u001b[49m\u001b[43m,\u001b[49m\u001b[43m \u001b[49m\u001b[43mclassName\u001b[49m\u001b[43m,\u001b[49m\u001b[43m \u001b[49m\u001b[43minteractive\u001b[49m\u001b[43m,\u001b[49m\u001b[43m \u001b[49m\u001b[43mwantobjects\u001b[49m\u001b[43m,\u001b[49m\u001b[43m \u001b[49m\u001b[43museTk\u001b[49m\u001b[43m,\u001b[49m\u001b[43m \u001b[49m\u001b[43msync\u001b[49m\u001b[43m,\u001b[49m\u001b[43m \u001b[49m\u001b[43muse\u001b[49m\u001b[43m)\u001b[49m\n\u001b[1;32m   2300\u001b[0m \u001b[38;5;28;01mif\u001b[39;00m useTk:\n\u001b[1;32m   2301\u001b[0m     \u001b[38;5;28mself\u001b[39m\u001b[38;5;241m.\u001b[39m_loadtk()\n",
      "\u001b[0;31mTclError\u001b[0m: no display name and no $DISPLAY environment variable"
     ]
    }
   ],
   "source": [
    "import tkinter as tk\n",
    "from tkinter import messagebox\n",
    "\n",
    "# Sample percentile data for illustration\n",
    "percentile_data = {\n",
    "    1600: 99,\n",
    "    1550: 99,\n",
    "    1500: 98,\n",
    "    1450: 97,\n",
    "    1400: 95,\n",
    "    1350: 92,\n",
    "    1300: 88,\n",
    "    1250: 82,\n",
    "    1200: 74,\n",
    "    1150: 65,\n",
    "    1100: 55,\n",
    "    1050: 45,\n",
    "    1000: 35,\n",
    "    950: 25,\n",
    "    900: 15,\n",
    "    850: 10,\n",
    "    800: 5,\n",
    "    750: 2,\n",
    "    700: 1\n",
    "}\n",
    "\n",
    "def find_percentile(score):\n",
    "    for s in sorted(percentile_data.keys(), reverse=True):\n",
    "        if score >= s:\n",
    "            return percentile_data[s]\n",
    "    return 0  # If score is below the lowest score in the dataset\n",
    "\n",
    "def submit():\n",
    "    try:\n",
    "        score = int(entry.get())\n",
    "        if 0 <= score <= 1600:\n",
    "            percentile = find_percentile(score)\n",
    "            result_label.config(text=f\"Percentile Rank: {percentile}th percentile\")\n",
    "        else:\n",
    "            messagebox.showerror(\"Invalid Score\", \"Please enter a score between 0 and 1600.\")\n",
    "    except ValueError:\n",
    "        messagebox.showerror(\"Invalid Input\", \"Please enter a valid numerical score.\")\n",
    "\n",
    "# GUI setup\n",
    "root = tk.Tk()\n",
    "root.title(\"SAT Percentile Finder\")\n",
    "\n",
    "frame = tk.Frame(root, padx=20, pady=20)\n",
    "frame.pack(padx=10, pady=10)\n",
    "\n",
    "label = tk.Label(frame, text=\"Enter your SAT score:\")\n",
    "label.grid(row=0, column=0, padx=5, pady=5)\n",
    "\n",
    "entry = tk.Entry(frame)\n",
    "entry.grid(row=0, column=1, padx=5, pady=5)\n",
    "\n",
    "button = tk.Button(frame, text=\"Find Percentile\", command=submit)\n",
    "button.grid(row=1, columnspan=2, pady=10)\n",
    "\n",
    "result_label = tk.Label(frame, text=\"\")\n",
    "result_label.grid(row=2, columnspan=2, pady=5)\n",
    "\n",
    "root.mainloop()"
   ]
  },
  {
   "cell_type": "code",
   "execution_count": null,
   "id": "b4958932-24a1-4d31-825b-90d80bbbe27d",
   "metadata": {},
   "outputs": [],
   "source": []
  }
 ],
 "metadata": {
  "kernelspec": {
   "display_name": "anaconda-ai-2024.04-py310",
   "language": "python",
   "name": "conda-env-anaconda-ai-2024.04-py310-py"
  },
  "language_info": {
   "codemirror_mode": {
    "name": "ipython",
    "version": 3
   },
   "file_extension": ".py",
   "mimetype": "text/x-python",
   "name": "python",
   "nbconvert_exporter": "python",
   "pygments_lexer": "ipython3",
   "version": "3.10.13"
  }
 },
 "nbformat": 4,
 "nbformat_minor": 5
}
