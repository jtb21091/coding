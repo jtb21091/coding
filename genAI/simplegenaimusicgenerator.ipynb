{
 "cells": [
  {
   "cell_type": "code",
   "execution_count": 2,
   "id": "0ab73562-d05a-4a8d-b0f1-3250120d9c3e",
   "metadata": {},
   "outputs": [
    {
     "name": "stdout",
     "output_type": "stream",
     "text": [
      "Music generation complete. Check the 'generated_melody.mid' file.\n"
     ]
    }
   ],
   "source": [
    "import numpy as np\n",
    "import pretty_midi\n",
    "from music21 import stream, note, midi\n",
    "\n",
    "# Function to create a random melody\n",
    "def create_random_melody(length=30, min_pitch=60, max_pitch=72):\n",
    "    melody = []\n",
    "    for _ in range(length):\n",
    "        pitch = np.random.randint(min_pitch, max_pitch)\n",
    "        duration = np.random.choice([0.25, 0.5, 1.0])\n",
    "        melody.append((pitch, duration))\n",
    "    return melody\n",
    "\n",
    "# Function to convert melody to a pretty_midi object\n",
    "def melody_to_midi(melody, filename='generated_melody.mid'):\n",
    "    midi_stream = stream.Stream()\n",
    "    for pitch, duration in melody:\n",
    "        n = note.Note()\n",
    "        n.pitch.midi = pitch\n",
    "        n.quarterLength = duration\n",
    "        midi_stream.append(n)\n",
    "\n",
    "    mf = midi.translate.music21ObjectToMidiFile(midi_stream)\n",
    "    mf.open(filename, 'wb')\n",
    "    mf.write()\n",
    "    mf.close()\n",
    "\n",
    "# Generate a random melody\n",
    "random_melody = create_random_melody()\n",
    "\n",
    "# Convert the melody to a MIDI file\n",
    "melody_to_midi(random_melody)\n",
    "\n",
    "print(\"Music generation complete. Check the 'generated_melody.mid' file.\")\n"
   ]
  },
  {
   "cell_type": "code",
   "execution_count": null,
   "id": "445659cb-3a74-417c-b0e8-23c6b4b9f7c8",
   "metadata": {},
   "outputs": [],
   "source": []
  }
 ],
 "metadata": {
  "kernelspec": {
   "display_name": "Python 3 (ipykernel)",
   "language": "python",
   "name": "python3"
  },
  "language_info": {
   "codemirror_mode": {
    "name": "ipython",
    "version": 3
   },
   "file_extension": ".py",
   "mimetype": "text/x-python",
   "name": "python",
   "nbconvert_exporter": "python",
   "pygments_lexer": "ipython3",
   "version": "3.11.7"
  }
 },
 "nbformat": 4,
 "nbformat_minor": 5
}
